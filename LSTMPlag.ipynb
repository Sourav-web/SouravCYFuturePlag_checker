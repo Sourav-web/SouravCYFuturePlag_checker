{
  "nbformat": 4,
  "nbformat_minor": 0,
  "metadata": {
    "colab": {
      "provenance": []
    },
    "kernelspec": {
      "name": "python3",
      "display_name": "Python 3"
    },
    "language_info": {
      "name": "python"
    }
  },
  "cells": [
    {
      "cell_type": "code",
      "execution_count": 4,
      "metadata": {
        "id": "S8AU-y23xslj"
      },
      "outputs": [],
      "source": [
        "import pandas as pd\n",
        "import numpy as np\n",
        "import string\n",
        "from sklearn.model_selection import train_test_split\n",
        "from sklearn.metrics import precision_score, recall_score, f1_score\n",
        "from tensorflow.keras.preprocessing.text import Tokenizer\n",
        "from tensorflow.keras.preprocessing.sequence import pad_sequences\n",
        "from tensorflow.keras.models import Sequential\n",
        "from tensorflow.keras.layers import Embedding, LSTM, Dense, Dropout\n",
        "from tensorflow.keras.callbacks import EarlyStopping\n",
        "from tqdm import tqdm\n",
        "from IPython import get_ipython\n",
        "from IPython.display import display"
      ]
    },
    {
      "cell_type": "code",
      "source": [
        "def load_txt_data(filepath):\n",
        "    \"\"\"Load data from .txt file with format: text1[TAB]text2[TAB]label\"\"\"\n",
        "    texts1 = []\n",
        "    texts2 = []\n",
        "    labels = []\n",
        "\n",
        "    with open(filepath, 'r', encoding='utf-8') as f:\n",
        "        for line in tqdm(f, desc=\"Loading data\"):\n",
        "            parts = line.strip().split('\\t')\n",
        "            if len(parts) == 3:\n",
        "                try:\n",
        "                    texts1.append(parts[0])\n",
        "                    texts2.append(parts[1])\n",
        "                    labels.append(int(parts[2]))\n",
        "                except ValueError:\n",
        "                    continue  # Skip lines with invalid labels\n",
        "\n",
        "    df = pd.DataFrame({\n",
        "        'text1': texts1,\n",
        "        'text2': texts2,\n",
        "        'label': labels\n",
        "    })\n",
        "\n",
        "    print(\"Initial data shape:\", df.shape)\n",
        "    df.dropna(inplace=True)\n",
        "    df.drop_duplicates(inplace=True)\n",
        "    print(\"After cleaning data shape:\", df.shape)\n",
        "\n",
        "    return df\n"
      ],
      "metadata": {
        "id": "Un4wXD9ZyKmm"
      },
      "execution_count": 3,
      "outputs": []
    },
    {
      "cell_type": "code",
      "source": [
        "def preprocess_text(text):\n",
        "    \"\"\"Basic text preprocessing\"\"\"\n",
        "    if isinstance(text, str):\n",
        "        text = text.translate(str.maketrans(\"\", \"\", string.punctuation))\n",
        "        text = text.lower()\n",
        "    return text\n",
        "\n",
        "def prepare_data(df):\n",
        "    \"\"\"Tokenize and prepare sequences for model\"\"\"\n",
        "    # Preprocess text\n",
        "    df['text1'] = df['text1'].apply(preprocess_text)\n",
        "    df['text2'] = df['text2'].apply(preprocess_text)\n",
        "\n",
        "    # Tokenize texts\n",
        "    tokenizer = Tokenizer(num_words=10000)\n",
        "    tokenizer.fit_on_texts(pd.concat([df['text1'], df['text2']]))\n",
        "\n",
        "    # Convert texts to sequences\n",
        "    seq1 = tokenizer.texts_to_sequences(df['text1'])\n",
        "    seq2 = tokenizer.texts_to_sequences(df['text2'])\n",
        "\n",
        "    # Pad sequences\n",
        "    max_len = 100  # You can adjust this based on your data\n",
        "    seq1 = pad_sequences(seq1, maxlen=max_len)\n",
        "    seq2 = pad_sequences(seq2, maxlen=max_len)\n",
        "\n",
        "    # Combine sequences\n",
        "    X = np.concatenate([seq1, seq2], axis=1)\n",
        "    y = df['label'].values\n",
        "\n",
        "    return train_test_split(X, y, test_size=0.2, random_state=42), tokenizer\n"
      ],
      "metadata": {
        "id": "n3wQxc-NyTcR"
      },
      "execution_count": 5,
      "outputs": []
    },
    {
      "cell_type": "code",
      "source": [
        "def build_model(input_shape):\n",
        "    \"\"\"Build LSTM model for text classification\"\"\"\n",
        "    model = Sequential([\n",
        "        Embedding(input_dim=10000, output_dim=128, input_length=input_shape),\n",
        "        LSTM(128, return_sequences=True),\n",
        "        Dropout(0.5),\n",
        "        LSTM(64),\n",
        "        Dense(64, activation='relu'),\n",
        "        Dropout(0.5),\n",
        "        Dense(1, activation='sigmoid')\n",
        "    ])\n",
        "\n",
        "    model.compile(\n",
        "        loss='binary_crossentropy',\n",
        "        optimizer='adam',\n",
        "        metrics=['accuracy']\n",
        "    )\n",
        "    return model\n"
      ],
      "metadata": {
        "id": "yZRPm7NJyYm8"
      },
      "execution_count": 6,
      "outputs": []
    },
    {
      "cell_type": "code",
      "source": [
        "# # Main Execution\n",
        "# %%\n",
        "if __name__ == \"__main__\":\n",
        "    # File paths\n",
        "    txt_file_path = \"/content/train_snli.txt\"  # Replace with your .txt file path\n",
        "\n",
        "    # Load and prepare data\n",
        "    df = load_txt_data(txt_file_path)\n",
        "    (xtrain, xtest, ytrain, ytest), tokenizer = prepare_data(df)\n",
        "\n",
        "    # Build model\n",
        "    model = build_model(xtrain.shape[1])\n",
        "\n",
        "    # Show model summary\n",
        "    model.summary()\n",
        "\n",
        "    # Train model\n",
        "    history = model.fit(\n",
        "        xtrain, ytrain,\n",
        "        batch_size=32,\n",
        "        epochs=1,\n",
        "        validation_data=(xtest, ytest),\n",
        "        callbacks=[EarlyStopping(monitor='val_loss', patience=3)]\n",
        "    )\n",
        "\n",
        "    # Evaluate\n",
        "    loss, accuracy = model.evaluate(xtest, ytest)\n",
        "    y_pred = (model.predict(xtest) > 0.5).astype(int)\n",
        "\n",
        "    print(\"\\nEvaluation Metrics:\")\n",
        "    print(f\"Test Accuracy: {accuracy:.4f}\")\n",
        "    print(f\"Precision: {precision_score(ytest, y_pred):.4f}\")\n",
        "    print(f\"Recall: {recall_score(ytest, y_pred):.4f}\")\n",
        "    print(f\"F1 Score: {f1_score(ytest, y_pred):.4f}\")\n"
      ],
      "metadata": {
        "colab": {
          "base_uri": "https://localhost:8080/",
          "height": 616
        },
        "id": "DtXBhLS3ya1o",
        "outputId": "844f93d7-827a-4a65-eabc-d14dd352eacd"
      },
      "execution_count": 7,
      "outputs": [
        {
          "metadata": {
            "tags": null
          },
          "name": "stderr",
          "output_type": "stream",
          "text": [
            "Loading data: 367373it [00:00, 671689.88it/s]\n"
          ]
        },
        {
          "metadata": {
            "tags": null
          },
          "name": "stdout",
          "output_type": "stream",
          "text": [
            "Initial data shape: (367373, 3)\n",
            "After cleaning data shape: (366919, 3)\n"
          ]
        },
        {
          "metadata": {
            "tags": null
          },
          "name": "stderr",
          "output_type": "stream",
          "text": [
            "/usr/local/lib/python3.11/dist-packages/keras/src/layers/core/embedding.py:90: UserWarning: Argument `input_length` is deprecated. Just remove it.\n",
            "  warnings.warn(\n"
          ]
        },
        {
          "data": {
            "text/html": [
              "<pre style=\"white-space:pre;overflow-x:auto;line-height:normal;font-family:Menlo,'DejaVu Sans Mono',consolas,'Courier New',monospace\"><span style=\"font-weight: bold\">Model: \"sequential\"</span>\n",
              "</pre>\n"
            ],
            "text/plain": [
              "\u001b[1mModel: \"sequential\"\u001b[0m\n"
            ]
          },
          "metadata": {},
          "output_type": "display_data"
        },
        {
          "data": {
            "text/html": [
              "<pre style=\"white-space:pre;overflow-x:auto;line-height:normal;font-family:Menlo,'DejaVu Sans Mono',consolas,'Courier New',monospace\">┏━━━━━━━━━━━━━━━━━━━━━━━━━━━━━━━━━┳━━━━━━━━━━━━━━━━━━━━━━━━┳━━━━━━━━━━━━━━━┓\n",
              "┃<span style=\"font-weight: bold\"> Layer (type)                    </span>┃<span style=\"font-weight: bold\"> Output Shape           </span>┃<span style=\"font-weight: bold\">       Param # </span>┃\n",
              "┡━━━━━━━━━━━━━━━━━━━━━━━━━━━━━━━━━╇━━━━━━━━━━━━━━━━━━━━━━━━╇━━━━━━━━━━━━━━━┩\n",
              "│ embedding (<span style=\"color: #0087ff; text-decoration-color: #0087ff\">Embedding</span>)           │ ?                      │   <span style=\"color: #00af00; text-decoration-color: #00af00\">0</span> (unbuilt) │\n",
              "├─────────────────────────────────┼────────────────────────┼───────────────┤\n",
              "│ lstm (<span style=\"color: #0087ff; text-decoration-color: #0087ff\">LSTM</span>)                     │ ?                      │   <span style=\"color: #00af00; text-decoration-color: #00af00\">0</span> (unbuilt) │\n",
              "├─────────────────────────────────┼────────────────────────┼───────────────┤\n",
              "│ dropout (<span style=\"color: #0087ff; text-decoration-color: #0087ff\">Dropout</span>)               │ ?                      │             <span style=\"color: #00af00; text-decoration-color: #00af00\">0</span> │\n",
              "├─────────────────────────────────┼────────────────────────┼───────────────┤\n",
              "│ lstm_1 (<span style=\"color: #0087ff; text-decoration-color: #0087ff\">LSTM</span>)                   │ ?                      │   <span style=\"color: #00af00; text-decoration-color: #00af00\">0</span> (unbuilt) │\n",
              "├─────────────────────────────────┼────────────────────────┼───────────────┤\n",
              "│ dense (<span style=\"color: #0087ff; text-decoration-color: #0087ff\">Dense</span>)                   │ ?                      │   <span style=\"color: #00af00; text-decoration-color: #00af00\">0</span> (unbuilt) │\n",
              "├─────────────────────────────────┼────────────────────────┼───────────────┤\n",
              "│ dropout_1 (<span style=\"color: #0087ff; text-decoration-color: #0087ff\">Dropout</span>)             │ ?                      │             <span style=\"color: #00af00; text-decoration-color: #00af00\">0</span> │\n",
              "├─────────────────────────────────┼────────────────────────┼───────────────┤\n",
              "│ dense_1 (<span style=\"color: #0087ff; text-decoration-color: #0087ff\">Dense</span>)                 │ ?                      │   <span style=\"color: #00af00; text-decoration-color: #00af00\">0</span> (unbuilt) │\n",
              "└─────────────────────────────────┴────────────────────────┴───────────────┘\n",
              "</pre>\n"
            ],
            "text/plain": [
              "┏━━━━━━━━━━━━━━━━━━━━━━━━━━━━━━━━━┳━━━━━━━━━━━━━━━━━━━━━━━━┳━━━━━━━━━━━━━━━┓\n",
              "┃\u001b[1m \u001b[0m\u001b[1mLayer (type)                   \u001b[0m\u001b[1m \u001b[0m┃\u001b[1m \u001b[0m\u001b[1mOutput Shape          \u001b[0m\u001b[1m \u001b[0m┃\u001b[1m \u001b[0m\u001b[1m      Param #\u001b[0m\u001b[1m \u001b[0m┃\n",
              "┡━━━━━━━━━━━━━━━━━━━━━━━━━━━━━━━━━╇━━━━━━━━━━━━━━━━━━━━━━━━╇━━━━━━━━━━━━━━━┩\n",
              "│ embedding (\u001b[38;5;33mEmbedding\u001b[0m)           │ ?                      │   \u001b[38;5;34m0\u001b[0m (unbuilt) │\n",
              "├─────────────────────────────────┼────────────────────────┼───────────────┤\n",
              "│ lstm (\u001b[38;5;33mLSTM\u001b[0m)                     │ ?                      │   \u001b[38;5;34m0\u001b[0m (unbuilt) │\n",
              "├─────────────────────────────────┼────────────────────────┼───────────────┤\n",
              "│ dropout (\u001b[38;5;33mDropout\u001b[0m)               │ ?                      │             \u001b[38;5;34m0\u001b[0m │\n",
              "├─────────────────────────────────┼────────────────────────┼───────────────┤\n",
              "│ lstm_1 (\u001b[38;5;33mLSTM\u001b[0m)                   │ ?                      │   \u001b[38;5;34m0\u001b[0m (unbuilt) │\n",
              "├─────────────────────────────────┼────────────────────────┼───────────────┤\n",
              "│ dense (\u001b[38;5;33mDense\u001b[0m)                   │ ?                      │   \u001b[38;5;34m0\u001b[0m (unbuilt) │\n",
              "├─────────────────────────────────┼────────────────────────┼───────────────┤\n",
              "│ dropout_1 (\u001b[38;5;33mDropout\u001b[0m)             │ ?                      │             \u001b[38;5;34m0\u001b[0m │\n",
              "├─────────────────────────────────┼────────────────────────┼───────────────┤\n",
              "│ dense_1 (\u001b[38;5;33mDense\u001b[0m)                 │ ?                      │   \u001b[38;5;34m0\u001b[0m (unbuilt) │\n",
              "└─────────────────────────────────┴────────────────────────┴───────────────┘\n"
            ]
          },
          "metadata": {},
          "output_type": "display_data"
        },
        {
          "data": {
            "text/html": [
              "<pre style=\"white-space:pre;overflow-x:auto;line-height:normal;font-family:Menlo,'DejaVu Sans Mono',consolas,'Courier New',monospace\"><span style=\"font-weight: bold\"> Total params: </span><span style=\"color: #00af00; text-decoration-color: #00af00\">0</span> (0.00 B)\n",
              "</pre>\n"
            ],
            "text/plain": [
              "\u001b[1m Total params: \u001b[0m\u001b[38;5;34m0\u001b[0m (0.00 B)\n"
            ]
          },
          "metadata": {},
          "output_type": "display_data"
        },
        {
          "data": {
            "text/html": [
              "<pre style=\"white-space:pre;overflow-x:auto;line-height:normal;font-family:Menlo,'DejaVu Sans Mono',consolas,'Courier New',monospace\"><span style=\"font-weight: bold\"> Trainable params: </span><span style=\"color: #00af00; text-decoration-color: #00af00\">0</span> (0.00 B)\n",
              "</pre>\n"
            ],
            "text/plain": [
              "\u001b[1m Trainable params: \u001b[0m\u001b[38;5;34m0\u001b[0m (0.00 B)\n"
            ]
          },
          "metadata": {},
          "output_type": "display_data"
        },
        {
          "data": {
            "text/html": [
              "<pre style=\"white-space:pre;overflow-x:auto;line-height:normal;font-family:Menlo,'DejaVu Sans Mono',consolas,'Courier New',monospace\"><span style=\"font-weight: bold\"> Non-trainable params: </span><span style=\"color: #00af00; text-decoration-color: #00af00\">0</span> (0.00 B)\n",
              "</pre>\n"
            ],
            "text/plain": [
              "\u001b[1m Non-trainable params: \u001b[0m\u001b[38;5;34m0\u001b[0m (0.00 B)\n"
            ]
          },
          "metadata": {},
          "output_type": "display_data"
        },
        {
          "output_type": "stream",
          "name": "stdout",
          "text": [
            "\u001b[1m9173/9173\u001b[0m \u001b[32m━━━━━━━━━━━━━━━━━━━━\u001b[0m\u001b[37m\u001b[0m \u001b[1m4937s\u001b[0m 538ms/step - accuracy: 0.7310 - loss: 0.5259 - val_accuracy: 0.7715 - val_loss: 0.4689\n",
            "\u001b[1m2294/2294\u001b[0m \u001b[32m━━━━━━━━━━━━━━━━━━━━\u001b[0m\u001b[37m\u001b[0m \u001b[1m332s\u001b[0m 145ms/step - accuracy: 0.7733 - loss: 0.4660\n",
            "\u001b[1m2294/2294\u001b[0m \u001b[32m━━━━━━━━━━━━━━━━━━━━\u001b[0m\u001b[37m\u001b[0m \u001b[1m328s\u001b[0m 143ms/step\n",
            "\n",
            "Evaluation Metrics:\n",
            "Test Accuracy: 0.7715\n",
            "Precision: 0.7613\n",
            "Recall: 0.7893\n",
            "F1 Score: 0.7751\n"
          ]
        }
      ]
    },
    {
      "cell_type": "code",
      "source": [
        "# Colab-compatible interactive prediction\n",
        "def predict_plagiarism(model, tokenizer, text1, text2, max_len=100):\n",
        "    \"\"\"\n",
        "    Predicts if text2 is plagiarized from text1.\n",
        "    \"\"\"\n",
        "    # Preprocess texts\n",
        "    text1_processed = preprocess_text(text1)\n",
        "    text2_processed = preprocess_text(text2)\n",
        "\n",
        "    # Tokenize and pad sequences\n",
        "    # Need to fit tokenizer on new texts if they contain new words,\n",
        "    # but for a deployed model, you'd use the fitted tokenizer from training.\n",
        "    # For simplicity here, we assume the tokenizer is already comprehensive.\n",
        "    seq1 = tokenizer.texts_to_sequences([text1_processed])\n",
        "    seq2 = tokenizer.texts_to_sequences([text2_processed])\n",
        "\n",
        "    seq1_padded = pad_sequences(seq1, maxlen=max_len)\n",
        "    seq2_padded = pad_sequences(seq2, maxlen=max_len)\n",
        "\n",
        "    # Combine sequences\n",
        "    X_new = np.concatenate([seq1_padded, seq2_padded], axis=1)\n",
        "\n",
        "    # Predict\n",
        "    prediction = model.predict(X_new)\n",
        "    confidence = prediction[0][0]\n",
        "\n",
        "    if confidence > 0.5:\n",
        "        result = \"Plagiarized\"\n",
        "    else:\n",
        "        result = \"Original\"\n",
        "\n",
        "    return result, confidence\n",
        "\n",
        "print(\"\\nPlagiarism Detection System\")\n",
        "print(\"Type your texts below (enter 'quit' to exit)\")\n",
        "\n",
        "while True:\n",
        "    try:\n",
        "        print(\"\\n--- New Comparison ---\")\n",
        "        original_text = input(\"Enter the original text (or 'quit' to exit): \")\n",
        "        if original_text.lower() == 'quit':\n",
        "            break\n",
        "\n",
        "        suspect_text = input(\"Enter the text to check for plagiarism: \")\n",
        "        if suspect_text.lower() == 'quit':\n",
        "            break\n",
        "\n",
        "        # Pass the required arguments to the predict_plagiarism function\n",
        "        result, confidence = predict_plagiarism(model, tokenizer, original_text, suspect_text)\n",
        "\n",
        "        print(f\"\\nResult: {result} (Confidence: {confidence:.2%})\")\n",
        "        if result == \"Plagiarized\":\n",
        "            print(\"Warning: This text appears to be plagiarized!\")\n",
        "        else:\n",
        "            print(\" This text appears to be original.\")\n",
        "\n",
        "    except Exception as e:\n",
        "        print(f\"Error: {e}\\nPlease try again.\")"
      ],
      "metadata": {
        "colab": {
          "base_uri": "https://localhost:8080/"
        },
        "id": "rqi4vxQ1ye70",
        "outputId": "cf9f6b2a-c6a5-495a-f682-09a7b401f3ad"
      },
      "execution_count": 10,
      "outputs": [
        {
          "name": "stdout",
          "output_type": "stream",
          "text": [
            "\n",
            "Plagiarism Detection System\n",
            "Type your texts below (enter 'quit' to exit)\n",
            "\n",
            "--- New Comparison ---\n",
            "Enter the original text (or 'quit' to exit): hi my name is sourav\n",
            "Enter the text to check for plagiarism: hi sonu\n",
            "\u001b[1m1/1\u001b[0m \u001b[32m━━━━━━━━━━━━━━━━━━━━\u001b[0m\u001b[37m\u001b[0m \u001b[1m0s\u001b[0m 126ms/step\n",
            "\n",
            "Result: Plagiarized (Confidence: 68.12%)\n",
            "Warning: This text appears to be plagiarized!\n",
            "\n",
            "--- New Comparison ---\n",
            "Enter the original text (or 'quit' to exit): quit\n"
          ]
        }
      ]
    },
    {
      "cell_type": "code",
      "source": [],
      "metadata": {
        "id": "_OncsoZdLbzQ"
      },
      "execution_count": null,
      "outputs": []
    },
    {
      "cell_type": "code",
      "source": [
        "import pickle"
      ],
      "metadata": {
        "id": "P81hEjUfLbvq"
      },
      "execution_count": 12,
      "outputs": []
    },
    {
      "cell_type": "code",
      "source": [
        "import pickle\n",
        "\n",
        "# Save the trained model\n",
        "with open('plagiarism_model.pkl1', 'wb') as file:\n",
        "    pickle.dump(model, file)\n",
        "\n",
        "# Save the tokenizer (not a TF-IDF vectorizer as the variable name suggested)\n",
        "# The tokenizer object was returned from the prepare_data function\n",
        "with open('tokenizer.pkl1', 'wb') as file:\n",
        "    pickle.dump(tokenizer, file)\n",
        "\n",
        "print(\"Model and tokenizer saved successfully!\")"
      ],
      "metadata": {
        "colab": {
          "base_uri": "https://localhost:8080/"
        },
        "id": "PGGWNBd3LSyO",
        "outputId": "437d9c48-ffc7-4383-cabd-5463fadd0af6"
      },
      "execution_count": 14,
      "outputs": [
        {
          "output_type": "stream",
          "name": "stdout",
          "text": [
            "Model and tokenizer saved successfully!\n"
          ]
        }
      ]
    },
    {
      "cell_type": "code",
      "source": [
        "# Load the saved model\n",
        "with open('/content/plagiarism_model.pkl1', 'rb') as file:\n",
        "    loaded_model = pickle.load(file)\n",
        "# Load the saved model\n",
        "with open('/content/plagiarism_model.pkl1', 'rb') as file:\n",
        "    loaded_model = pickle.load(file)\n",
        "\n",
        "# Load the saved vectorizer\n",
        "with open('/content/tokenizer.pkl1', 'rb') as file:\n",
        "    loaded_vectorizer = pickle.load(file)\n",
        "\n",
        "print(\"Model and vectorizer loaded successfully!\")\n",
        "print(\"Model and vectorizer loaded successfully!\")\n"
      ],
      "metadata": {
        "colab": {
          "base_uri": "https://localhost:8080/"
        },
        "id": "p7bMjmU3LyrJ",
        "outputId": "875a2c9e-ad83-4565-a049-c1d5b2286257"
      },
      "execution_count": 17,
      "outputs": [
        {
          "output_type": "stream",
          "name": "stdout",
          "text": [
            "Model and vectorizer loaded successfully!\n",
            "Model and vectorizer loaded successfully!\n"
          ]
        }
      ]
    }
  ]
}